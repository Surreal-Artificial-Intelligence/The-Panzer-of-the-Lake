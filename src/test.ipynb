{
 "cells": [
  {
   "cell_type": "code",
   "execution_count": 1,
   "metadata": {},
   "outputs": [],
   "source": [
    "from tinydb import TinyDB, Query\n",
    "db = TinyDB('./db/db.json')\n",
    "User = Query()"
   ]
  },
  {
   "cell_type": "code",
   "execution_count": 7,
   "metadata": {},
   "outputs": [
    {
     "data": {
      "text/plain": [
       "[{'name': 'John', 'age': 22}]"
      ]
     },
     "execution_count": 7,
     "metadata": {},
     "output_type": "execute_result"
    }
   ],
   "source": [
    "\n",
    "db.insert({'name': 'John', 'age': 22})\n",
    "db.search(User.name == 'John')"
   ]
  },
  {
   "cell_type": "code",
   "execution_count": 3,
   "metadata": {},
   "outputs": [
    {
     "data": {
      "text/plain": [
       "[{'name': 'John', 'age': 22}]"
      ]
     },
     "execution_count": 3,
     "metadata": {},
     "output_type": "execute_result"
    }
   ],
   "source": [
    "db.search((User.name == 'John') & (User.age <= 30))"
   ]
  },
  {
   "cell_type": "code",
   "execution_count": 4,
   "metadata": {},
   "outputs": [
    {
     "data": {
      "text/plain": [
       "[{'name': 'John', 'age': 22}]"
      ]
     },
     "execution_count": 4,
     "metadata": {},
     "output_type": "execute_result"
    }
   ],
   "source": [
    "db.search((User.name == 'John') | (User.name == 'Bob'))"
   ]
  },
  {
   "cell_type": "code",
   "execution_count": 5,
   "metadata": {},
   "outputs": [
    {
     "data": {
      "text/plain": [
       "[{'name': 'John', 'age': 22}]"
      ]
     },
     "execution_count": 5,
     "metadata": {},
     "output_type": "execute_result"
    }
   ],
   "source": [
    "db.search((User.age.map(lambda x: x + x) == 44))"
   ]
  },
  {
   "cell_type": "code",
   "execution_count": null,
   "metadata": {},
   "outputs": [],
   "source": []
  },
  {
   "cell_type": "code",
   "execution_count": 17,
   "metadata": {},
   "outputs": [],
   "source": [
    "# insert documents\n",
    "\n",
    "db.insert({'type': 'apple', 'count': 7})\n",
    "db.insert({'type': 'peach', 'count': 3})\n",
    "\n",
    "\n",
    "# Iterate over stored documents\n",
    "\n",
    "for item in db:\n",
    "    print(item)\n",
    "\n",
    "\n",
    "# Query documents\n",
    "\n",
    "Fruit = Query()\n",
    "db.search(Fruit.type == 'peach')\n",
    "# [{'count': 3, 'type': 'peach'}]\n",
    "db.search(Fruit.count > 5)\n",
    "# [{'count': 7, 'type': 'apple'}]\n",
    "\n",
    "# Remove documents\n",
    "db.remove(Fruit.count < 5)"
   ]
  },
  {
   "cell_type": "code",
   "execution_count": null,
   "metadata": {},
   "outputs": [],
   "source": []
  },
  {
   "cell_type": "code",
   "execution_count": null,
   "metadata": {},
   "outputs": [],
   "source": [
    "# drop db\n",
    "db.truncate()"
   ]
  },
  {
   "cell_type": "markdown",
   "metadata": {},
   "source": [
    "# Tables"
   ]
  },
  {
   "cell_type": "code",
   "execution_count": 11,
   "metadata": {},
   "outputs": [
    {
     "data": {
      "text/plain": [
       "[{'user_id': 1, 'username': 'Aemilius'}]"
      ]
     },
     "execution_count": 11,
     "metadata": {},
     "output_type": "execute_result"
    }
   ],
   "source": [
    "table = db.table('users')\n",
    "table.insert({'user_id': 1, \"username\": \"Aemilius\" })\n",
    "table.all()"
   ]
  },
  {
   "cell_type": "code",
   "execution_count": 16,
   "metadata": {},
   "outputs": [
    {
     "ename": "AttributeError",
     "evalue": "'NoneType' object has no attribute 'doc_id'",
     "output_type": "error",
     "traceback": [
      "\u001b[0;31m---------------------------------------------------------------------------\u001b[0m",
      "\u001b[0;31mAttributeError\u001b[0m                            Traceback (most recent call last)",
      "Cell \u001b[0;32mIn[16], line 2\u001b[0m\n\u001b[1;32m      1\u001b[0m el \u001b[38;5;241m=\u001b[39m db\u001b[38;5;241m.\u001b[39mget(User\u001b[38;5;241m.\u001b[39musername \u001b[38;5;241m==\u001b[39m \u001b[38;5;124m'\u001b[39m\u001b[38;5;124mAemilius\u001b[39m\u001b[38;5;124m'\u001b[39m)\n\u001b[0;32m----> 2\u001b[0m \u001b[43mel\u001b[49m\u001b[38;5;241;43m.\u001b[39;49m\u001b[43mdoc_id\u001b[49m\n",
      "\u001b[0;31mAttributeError\u001b[0m: 'NoneType' object has no attribute 'doc_id'"
     ]
    }
   ],
   "source": [
    "el = db.get(User.username == 'Aemilius')\n",
    "el.doc_id"
   ]
  },
  {
   "cell_type": "code",
   "execution_count": null,
   "metadata": {},
   "outputs": [],
   "source": []
  },
  {
   "cell_type": "code",
   "execution_count": null,
   "metadata": {},
   "outputs": [],
   "source": [
    "table = db.table('users')\n",
    "table.insert({'user_id': 1, \"username\": \"Aemilius\" })\n",
    "table.all()"
   ]
  },
  {
   "cell_type": "code",
   "execution_count": 5,
   "metadata": {},
   "outputs": [
    {
     "data": {
      "text/plain": [
       "[{'user_id': 1, 'username': 'Aemilius'},\n",
       " {'name': 'Summarize', 'text': 'Summarize the following text \\\\{\\\\}'},\n",
       " {'name': 'Summarize', 'text': 'Summarize the following text {}'},\n",
       " {'user': 'Emile',\n",
       "  'name': 'Summarize',\n",
       "  'text': 'Summarize the following text {}'}]"
      ]
     },
     "execution_count": 5,
     "metadata": {},
     "output_type": "execute_result"
    }
   ],
   "source": [
    "table = db.table('prompt_templates')\n",
    "table.insert({\"user\": \"Emile\", \"name\": \"Summarize\", \"text\": \"Summarize the following text {}\"})\n",
    "table.all()"
   ]
  },
  {
   "cell_type": "markdown",
   "metadata": {},
   "source": [
    "<!-- >>> from tinydb.storages import JSONStorage\n",
    ">>> from tinydb.middlewares import CachingMiddleware\n",
    ">>> db = TinyDB('/path/to/db.json', storage=CachingMiddleware(JSONStorage)) -->"
   ]
  },
  {
   "cell_type": "code",
   "execution_count": 7,
   "metadata": {},
   "outputs": [
    {
     "ename": "TypeError",
     "evalue": "'QueryInstance' object is not iterable",
     "output_type": "error",
     "traceback": [
      "\u001b[0;31m---------------------------------------------------------------------------\u001b[0m",
      "\u001b[0;31mTypeError\u001b[0m                                 Traceback (most recent call last)",
      "Cell \u001b[0;32mIn[7], line 3\u001b[0m\n\u001b[1;32m      1\u001b[0m table \u001b[38;5;241m=\u001b[39m db\u001b[38;5;241m.\u001b[39mtable(\u001b[38;5;124m'\u001b[39m\u001b[38;5;124mprompt_templates\u001b[39m\u001b[38;5;124m'\u001b[39m)\n\u001b[1;32m      2\u001b[0m prompt_template \u001b[38;5;241m=\u001b[39m Query()\n\u001b[0;32m----> 3\u001b[0m \u001b[43mtable\u001b[49m\u001b[38;5;241;43m.\u001b[39;49m\u001b[43mupdate\u001b[49m\u001b[43m(\u001b[49m\u001b[43m{\u001b[49m\u001b[38;5;124;43m\"\u001b[39;49m\u001b[38;5;124;43mname\u001b[39;49m\u001b[38;5;124;43m\"\u001b[39;49m\u001b[43m:\u001b[49m\u001b[43m \u001b[49m\u001b[38;5;124;43m\"\u001b[39;49m\u001b[38;5;124;43mSummarize\u001b[39;49m\u001b[38;5;124;43m\"\u001b[39;49m\u001b[43m,\u001b[49m\u001b[43m \u001b[49m\u001b[38;5;124;43m\"\u001b[39;49m\u001b[38;5;124;43mtext\u001b[39;49m\u001b[38;5;124;43m\"\u001b[39;49m\u001b[43m:\u001b[49m\u001b[43m \u001b[49m\u001b[38;5;124;43m\"\u001b[39;49m\u001b[38;5;124;43mSummarize the following bva \u001b[39;49m\u001b[38;5;132;43;01m{}\u001b[39;49;00m\u001b[38;5;124;43m\"\u001b[39;49m\u001b[43m}\u001b[49m\u001b[43m,\u001b[49m\u001b[43m \u001b[49m\u001b[43mprompt_template\u001b[49m\u001b[38;5;241;43m.\u001b[39;49m\u001b[43muser\u001b[49m\u001b[43m \u001b[49m\u001b[38;5;241;43m==\u001b[39;49m\u001b[43m \u001b[49m\u001b[38;5;124;43m'\u001b[39;49m\u001b[38;5;124;43mEmile\u001b[39;49m\u001b[38;5;124;43m'\u001b[39;49m\u001b[43m,\u001b[49m\u001b[43m \u001b[49m\u001b[43mprompt_template\u001b[49m\u001b[38;5;241;43m.\u001b[39;49m\u001b[43mname\u001b[49m\u001b[43m \u001b[49m\u001b[38;5;241;43m==\u001b[39;49m\u001b[43m \u001b[49m\u001b[38;5;124;43m'\u001b[39;49m\u001b[38;5;124;43mSummarize\u001b[39;49m\u001b[38;5;124;43m'\u001b[39;49m\u001b[43m \u001b[49m\u001b[43m)\u001b[49m\n\u001b[1;32m      4\u001b[0m table\u001b[38;5;241m.\u001b[39mall()\n",
      "File \u001b[0;32m~/.local/share/virtualenvs/The-Panzer-of-the-Lake-qz9ul8gx/lib/python3.10/site-packages/tinydb/table.py:397\u001b[0m, in \u001b[0;36mTable.update\u001b[0;34m(self, fields, cond, doc_ids)\u001b[0m\n\u001b[1;32m    391\u001b[0m         table[doc_id]\u001b[38;5;241m.\u001b[39mupdate(fields)\n\u001b[1;32m    393\u001b[0m \u001b[38;5;28;01mif\u001b[39;00m doc_ids \u001b[38;5;129;01mis\u001b[39;00m \u001b[38;5;129;01mnot\u001b[39;00m \u001b[38;5;28;01mNone\u001b[39;00m:\n\u001b[1;32m    394\u001b[0m     \u001b[38;5;66;03m# Perform the update operation for documents specified by a list\u001b[39;00m\n\u001b[1;32m    395\u001b[0m     \u001b[38;5;66;03m# of document IDs\u001b[39;00m\n\u001b[0;32m--> 397\u001b[0m     updated_ids \u001b[38;5;241m=\u001b[39m \u001b[38;5;28;43mlist\u001b[39;49m\u001b[43m(\u001b[49m\u001b[43mdoc_ids\u001b[49m\u001b[43m)\u001b[49m\n\u001b[1;32m    399\u001b[0m     \u001b[38;5;28;01mdef\u001b[39;00m \u001b[38;5;21mupdater\u001b[39m(table: \u001b[38;5;28mdict\u001b[39m):\n\u001b[1;32m    400\u001b[0m         \u001b[38;5;66;03m# Call the processing callback with all document IDs\u001b[39;00m\n\u001b[1;32m    401\u001b[0m         \u001b[38;5;28;01mfor\u001b[39;00m doc_id \u001b[38;5;129;01min\u001b[39;00m updated_ids:\n",
      "\u001b[0;31mTypeError\u001b[0m: 'QueryInstance' object is not iterable"
     ]
    }
   ],
   "source": [
    "table = db.table('prompt_templates')\n",
    "prompt_template = Query()\n",
    "table.update({\"name\": \"Summarize\", \"text\": \"Summarize the following bva {}\"}, prompt_template.user == 'Emile', prompt_template.name == 'Summarize' )\n",
    "table.all()"
   ]
  },
  {
   "cell_type": "code",
   "execution_count": 18,
   "metadata": {},
   "outputs": [
    {
     "data": {
      "text/plain": [
       "[{'user_id': 1, 'username': 'Aemilius'}, {'username': 'Aemilius'}]"
      ]
     },
     "execution_count": 18,
     "metadata": {},
     "output_type": "execute_result"
    }
   ],
   "source": [
    "# initilize DB\n",
    "def load_db(db_path: str = './db/db.json'):\n",
    "    db = TinyDB(db_path)\n",
    "    return db\n",
    "\n",
    "def initialize_db(db_path: str = './db/db.json'):\n",
    "    db = TinyDB(db_path)\n",
    "    table = db.table('users')\n",
    "    table.insert({\"username\": \"Aemilius\"})\n",
    "    return True"
   ]
  }
 ],
 "metadata": {
  "kernelspec": {
   "display_name": "The-Panzer-of-the-Lake-qz9ul8gx",
   "language": "python",
   "name": "python3"
  },
  "language_info": {
   "codemirror_mode": {
    "name": "ipython",
    "version": 3
   },
   "file_extension": ".py",
   "mimetype": "text/x-python",
   "name": "python",
   "nbconvert_exporter": "python",
   "pygments_lexer": "ipython3",
   "version": "3.10.10"
  }
 },
 "nbformat": 4,
 "nbformat_minor": 2
}
