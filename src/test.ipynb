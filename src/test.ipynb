{
 "cells": [
  {
   "cell_type": "code",
   "execution_count": 1,
   "metadata": {},
   "outputs": [],
   "source": [
    "from models.togetherai_model import TogetherAIModel\n",
    "from services.faiss_engine import FaissEngine\n",
    "import numpy as np\n",
    "import pymupdf\n",
    "\n",
    "client = TogetherAIModel(\"\",\"togethercomputer/m2-bert-80M-8k-retrieval\", \"https://api.together.xyz/v1/embeddings\")"
   ]
  },
  {
   "cell_type": "code",
   "execution_count": 3,
   "metadata": {},
   "outputs": [
    {
     "name": "stdout",
     "output_type": "stream",
     "text": [
      "(7, 768)\n",
      "['How do you make banana bread?', 'Only the brightest bananas are the best']\n",
      "VectorSearchResponse(indices=array([6, 5]), distances=array([20.78393, 22.69541], dtype=float32))\n"
     ]
    }
   ],
   "source": [
    "d = 786\n",
    "\n",
    "chunks = [\n",
    "    \"The sun was setting over the ocean, casting a warm golden light over the beach.\",\n",
    "    \"The smell of freshly brewed coffee filled the air, enticing the sleepy office workers to rise and shine.\",\n",
    "    \"In a world where time was currency, the rich lived forever and the poor were left with nothing but memories.\",\n",
    "    \"As she walked through the old antique shop, she stumbled upon a mysterious locket that revealed a hidden family secret.\",\n",
    "    \"The stars twinkled like diamonds in the night sky, guiding the lost traveler towards a new and exciting destination.\",\n",
    "    \"Only the brightest bananas are the best\",\n",
    "    \"How do you make banana bread?\"\n",
    "]\n",
    "np_emb = client.embedding(chunks).embeddings\n",
    "print(np_emb.shape)\n",
    "\n",
    "query = [\n",
    "    \"What is the best way to find bananas?\",\n",
    "]\n",
    "np_query = client.embedding(query).embeddings\n",
    "np_query.shape\n",
    "\n",
    "fe = FaissEngine()\n",
    "fe.add_embeddings(np_emb)\n",
    "results = fe.search(np_query, topk=2)\n",
    "print(results)\n",
    "indexes = results.indices\n",
    "sent_result= [chunks[i] for i in indexes]\n",
    "print(sent_result)\n",
    "\n"
   ]
  },
  {
   "cell_type": "code",
   "execution_count": 4,
   "metadata": {},
   "outputs": [
    {
     "name": "stdout",
     "output_type": "stream",
     "text": [
      "no. of chunks:  6\n"
     ]
    }
   ],
   "source": [
    "from services.rag_manager import RAGManager\n",
    "from services.document_engine import DocumentEngine\n",
    "\n",
    "\n",
    "rag = RAGManager(client, DocumentEngine(500, 10), FaissEngine())\n",
    "response = rag.process_document('./llm.pdf')\n"
   ]
  },
  {
   "cell_type": "code",
   "execution_count": 6,
   "metadata": {},
   "outputs": [
    {
     "data": {
      "text/plain": [
       "['ul launch and scaling of new \\nand innovative products. \\n• \\nProficiency in modern frameworks/languages such as Python, JavaScript, Java, Golang, Scala, \\netc. \\n• \\nExceptional collaboration and communication skills to effectively engage and work with \\nstakeholders from diverse disciplines and varying levels of technical expertise. \\n• \\nAbility to translate complex technical concepts into clear, actionable insights for all \\naudiences. \\n• \\nExperience with AI technologies, particularly in LLMs and mach',\n",
       " 'eams, including product managers and domain experts, to \\ndiscover, build, and iterate on innovative features and products. \\n• \\nEnsure the scalability, security, and performance of our software systems. \\n• \\nRapidly develop and iterate on proofs-of-concept to test new ideas and hypotheses, \\nefficiently validating and evolving our software solutions. \\n• \\nStay updated with emerging trends and advancements in AI, LLMs, and software \\ndevelopment to continually enhance our product offerings. \\n• \\nAct as',\n",
       " '\\n• \\nAct as an internal evangelist for the use of AI and LLMs, providing expert guidance and \\ninsights to other teams within the organization. \\nRequirements: \\n• \\nBachelor’s or master’s degree in Computer Science, Engineering, or a related field, or \\nequivalent experience. \\n• \\nMinimum of 5 years of experience in software development, with a demonstrated ability to \\nthrive in ambiguous and rapidly changing environments. \\n• \\nProven track record of contributing significantly to the successful launch ',\n",
       " 's and machine learning. \\n• \\nFamiliarity with cloud infrastructure (e.g., AWS, Azure, GCP) and the full end-to-end process \\nof modern software deployment. \\n• \\nExperience in the publishing industry is a plus, but not required. \\n• \\nProven ability to lead and build a development team. \\n \\n',\n",
       " 'Job Title: Full Stack Developer \\nJob Title: Senior LLM/AI Product Engineer \\nCompany: CoEditor \\nPosition Overview: CoEditor, a new company within a leading publishing group, is seeking a Senior \\nLLM/AI Product Engineer to join our team. You will lead the design, development, and deployment \\nof innovative software solutions leveraging AI and Large Language Models (LLMs) to create industry-\\nleading tools for publishing. Working closely with cross-functional teams, including product \\nmanagers and do']"
      ]
     },
     "execution_count": 6,
     "metadata": {},
     "output_type": "execute_result"
    }
   ],
   "source": [
    "response = rag.search_similar_chunks(\"What is the best way to find bananas?\", topk=5)\n",
    "response"
   ]
  },
  {
   "cell_type": "markdown",
   "metadata": {},
   "source": [
    "# TinyDB"
   ]
  },
  {
   "cell_type": "code",
   "execution_count": 1,
   "metadata": {},
   "outputs": [],
   "source": [
    "from tinydb import TinyDB, Query\n",
    "db = TinyDB('./db/db.json')\n",
    "User = Query()"
   ]
  },
  {
   "cell_type": "code",
   "execution_count": 7,
   "metadata": {},
   "outputs": [
    {
     "data": {
      "text/plain": [
       "[{'name': 'John', 'age': 22}]"
      ]
     },
     "execution_count": 7,
     "metadata": {},
     "output_type": "execute_result"
    }
   ],
   "source": [
    "\n",
    "db.insert({'name': 'John', 'age': 22})\n",
    "db.search(User.name == 'John')"
   ]
  },
  {
   "cell_type": "code",
   "execution_count": 3,
   "metadata": {},
   "outputs": [
    {
     "data": {
      "text/plain": [
       "[{'name': 'John', 'age': 22}]"
      ]
     },
     "execution_count": 3,
     "metadata": {},
     "output_type": "execute_result"
    }
   ],
   "source": [
    "db.search((User.name == 'John') & (User.age <= 30))"
   ]
  },
  {
   "cell_type": "code",
   "execution_count": 4,
   "metadata": {},
   "outputs": [
    {
     "data": {
      "text/plain": [
       "[{'name': 'John', 'age': 22}]"
      ]
     },
     "execution_count": 4,
     "metadata": {},
     "output_type": "execute_result"
    }
   ],
   "source": [
    "db.search((User.name == 'John') | (User.name == 'Bob'))"
   ]
  },
  {
   "cell_type": "code",
   "execution_count": 5,
   "metadata": {},
   "outputs": [
    {
     "data": {
      "text/plain": [
       "[{'name': 'John', 'age': 22}]"
      ]
     },
     "execution_count": 5,
     "metadata": {},
     "output_type": "execute_result"
    }
   ],
   "source": [
    "db.search((User.age.map(lambda x: x + x) == 44))"
   ]
  },
  {
   "cell_type": "code",
   "execution_count": 17,
   "metadata": {},
   "outputs": [],
   "source": [
    "# insert documents\n",
    "\n",
    "db.insert({'type': 'apple', 'count': 7})\n",
    "db.insert({'type': 'peach', 'count': 3})\n",
    "\n",
    "\n",
    "# Iterate over stored documents\n",
    "\n",
    "for item in db:\n",
    "    print(item)\n",
    "\n",
    "\n",
    "# Query documents\n",
    "\n",
    "Fruit = Query()\n",
    "db.search(Fruit.type == 'peach')\n",
    "# [{'count': 3, 'type': 'peach'}]\n",
    "db.search(Fruit.count > 5)\n",
    "# [{'count': 7, 'type': 'apple'}]\n",
    "\n",
    "# Remove documents\n",
    "db.remove(Fruit.count < 5)"
   ]
  },
  {
   "cell_type": "code",
   "execution_count": null,
   "metadata": {},
   "outputs": [],
   "source": [
    "# drop db\n",
    "db.truncate()"
   ]
  },
  {
   "cell_type": "markdown",
   "metadata": {},
   "source": [
    "# Tables"
   ]
  },
  {
   "cell_type": "code",
   "execution_count": 11,
   "metadata": {},
   "outputs": [
    {
     "data": {
      "text/plain": [
       "[{'user_id': 1, 'username': 'Aemilius'}]"
      ]
     },
     "execution_count": 11,
     "metadata": {},
     "output_type": "execute_result"
    }
   ],
   "source": [
    "table = db.table('users')\n",
    "table.insert({'user_id': 1, \"username\": \"Aemilius\" })\n",
    "table.all()"
   ]
  },
  {
   "cell_type": "code",
   "execution_count": null,
   "metadata": {},
   "outputs": [],
   "source": [
    "el = db.get(User.username == 'Aemilius')\n",
    "el.doc_id"
   ]
  },
  {
   "cell_type": "code",
   "execution_count": null,
   "metadata": {},
   "outputs": [],
   "source": [
    "table = db.table('users')\n",
    "table.insert({'user_id': 1, \"username\": \"Aemilius\" })\n",
    "table.all()"
   ]
  },
  {
   "cell_type": "code",
   "execution_count": 5,
   "metadata": {},
   "outputs": [
    {
     "data": {
      "text/plain": [
       "[{'user_id': 1, 'username': 'Aemilius'},\n",
       " {'name': 'Summarize', 'text': 'Summarize the following text \\\\{\\\\}'},\n",
       " {'name': 'Summarize', 'text': 'Summarize the following text {}'},\n",
       " {'user': 'Emile',\n",
       "  'name': 'Summarize',\n",
       "  'text': 'Summarize the following text {}'}]"
      ]
     },
     "execution_count": 5,
     "metadata": {},
     "output_type": "execute_result"
    }
   ],
   "source": [
    "table = db.table('prompt_templates')\n",
    "table.insert({\"user\": \"Emile\", \"name\": \"Summarize\", \"text\": \"Summarize the following text {}\"})\n",
    "table.all()"
   ]
  },
  {
   "cell_type": "markdown",
   "metadata": {},
   "source": [
    "<!-- >>> from tinydb.storages import JSONStorage\n",
    ">>> from tinydb.middlewares import CachingMiddleware\n",
    ">>> db = TinyDB('/path/to/db.json', storage=CachingMiddleware(JSONStorage)) -->"
   ]
  },
  {
   "cell_type": "code",
   "execution_count": null,
   "metadata": {},
   "outputs": [],
   "source": [
    "table = db.table('prompt_templates')\n",
    "prompt_template = Query()\n",
    "table.update({\"name\": \"Summarize\", \"text\": \"Summarize the following bva {}\"}, prompt_template.user == '', prompt_template.name == 'Summarize' )\n",
    "table.all()"
   ]
  },
  {
   "cell_type": "code",
   "execution_count": 18,
   "metadata": {},
   "outputs": [
    {
     "data": {
      "text/plain": [
       "[{'user_id': 1, 'username': 'Aemilius'}, {'username': 'Aemilius'}]"
      ]
     },
     "execution_count": 18,
     "metadata": {},
     "output_type": "execute_result"
    }
   ],
   "source": [
    "# initilize DB\n",
    "def load_db(db_path: str = './db/db.json'):\n",
    "    db = TinyDB(db_path)\n",
    "    return db\n",
    "\n",
    "def initialize_db(db_path: str = './db/db.json'):\n",
    "    db = TinyDB(db_path)\n",
    "    table = db.table('users')\n",
    "    table.insert({\"username\": \"Aemilius\"})\n",
    "    return True"
   ]
  }
 ],
 "metadata": {
  "kernelspec": {
   "display_name": "The-Panzer-of-the-Lake-qz9ul8gx",
   "language": "python",
   "name": "python3"
  },
  "language_info": {
   "codemirror_mode": {
    "name": "ipython",
    "version": 3
   },
   "file_extension": ".py",
   "mimetype": "text/x-python",
   "name": "python",
   "nbconvert_exporter": "python",
   "pygments_lexer": "ipython3",
   "version": "3.12.6"
  }
 },
 "nbformat": 4,
 "nbformat_minor": 2
}
